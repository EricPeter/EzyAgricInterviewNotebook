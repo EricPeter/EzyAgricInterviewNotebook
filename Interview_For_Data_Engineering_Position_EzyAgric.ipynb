{
 "cells": [
  {
   "cell_type": "code",
   "execution_count": 72,
   "metadata": {},
   "outputs": [],
   "source": [
    "#Loading all the necessary packages \n",
    "import geopandas\n",
    "import folium\n",
    "import pandas as pd \n",
    "from shapely.geometry import Point\n",
    "import geopandas as gpd\n",
    "from geopandas import GeoDataFrame\n"
   ]
  },
  {
   "cell_type": "code",
   "execution_count": 73,
   "metadata": {},
   "outputs": [],
   "source": [
    "##Loading the dataset \n",
    "garden_dataset = pd.read_excel(\"Interview Challenge.xlsx\")"
   ]
  },
  {
   "cell_type": "code",
   "execution_count": 74,
   "metadata": {},
   "outputs": [
    {
     "data": {
      "text/html": [
       "<div>\n",
       "<style scoped>\n",
       "    .dataframe tbody tr th:only-of-type {\n",
       "        vertical-align: middle;\n",
       "    }\n",
       "\n",
       "    .dataframe tbody tr th {\n",
       "        vertical-align: top;\n",
       "    }\n",
       "\n",
       "    .dataframe thead th {\n",
       "        text-align: right;\n",
       "    }\n",
       "</style>\n",
       "<table border=\"1\" class=\"dataframe\">\n",
       "  <thead>\n",
       "    <tr style=\"text-align: right;\">\n",
       "      <th></th>\n",
       "      <th>id</th>\n",
       "      <th>latitudes/0</th>\n",
       "      <th>latitudes/1</th>\n",
       "      <th>latitudes/2</th>\n",
       "      <th>latitudes/3</th>\n",
       "      <th>longitudes/0</th>\n",
       "      <th>longitudes/1</th>\n",
       "      <th>longitudes/2</th>\n",
       "      <th>longitudes/3</th>\n",
       "      <th>latitudes/4</th>\n",
       "      <th>longitudes/4</th>\n",
       "      <th>Unnamed: 11</th>\n",
       "      <th>Unnamed: 12</th>\n",
       "      <th>Unnamed: 13</th>\n",
       "      <th>Unnamed: 14</th>\n",
       "      <th>Unnamed: 15</th>\n",
       "    </tr>\n",
       "  </thead>\n",
       "  <tbody>\n",
       "    <tr>\n",
       "      <th>0</th>\n",
       "      <td>7590cf21d1a446e3b07c92912a4a3c44</td>\n",
       "      <td>2.980511</td>\n",
       "      <td>2.980595</td>\n",
       "      <td>2.980763</td>\n",
       "      <td>2.980530</td>\n",
       "      <td>32.531686</td>\n",
       "      <td>32.531705</td>\n",
       "      <td>32.531327</td>\n",
       "      <td>32.531240</td>\n",
       "      <td>2.980515</td>\n",
       "      <td>32.531657</td>\n",
       "      <td>NaN</td>\n",
       "      <td>NaN</td>\n",
       "      <td>NaN</td>\n",
       "      <td>NaN</td>\n",
       "      <td>NaN</td>\n",
       "    </tr>\n",
       "    <tr>\n",
       "      <th>1</th>\n",
       "      <td>c7b3fde63650440abbaaecec33e30bfa</td>\n",
       "      <td>2.965254</td>\n",
       "      <td>2.965177</td>\n",
       "      <td>2.965122</td>\n",
       "      <td>2.966003</td>\n",
       "      <td>32.249756</td>\n",
       "      <td>32.250017</td>\n",
       "      <td>32.250278</td>\n",
       "      <td>32.250418</td>\n",
       "      <td>2.965983</td>\n",
       "      <td>32.249870</td>\n",
       "      <td>NaN</td>\n",
       "      <td>NaN</td>\n",
       "      <td>NaN</td>\n",
       "      <td>NaN</td>\n",
       "      <td>s</td>\n",
       "    </tr>\n",
       "    <tr>\n",
       "      <th>2</th>\n",
       "      <td>ef2b90b7ff804894a8413477cdfa0e86</td>\n",
       "      <td>2.961134</td>\n",
       "      <td>2.961096</td>\n",
       "      <td>2.961096</td>\n",
       "      <td>2.961162</td>\n",
       "      <td>32.240426</td>\n",
       "      <td>32.240401</td>\n",
       "      <td>32.240401</td>\n",
       "      <td>32.240312</td>\n",
       "      <td>2.960957</td>\n",
       "      <td>32.240535</td>\n",
       "      <td>NaN</td>\n",
       "      <td>NaN</td>\n",
       "      <td>NaN</td>\n",
       "      <td>NaN</td>\n",
       "      <td>NaN</td>\n",
       "    </tr>\n",
       "    <tr>\n",
       "      <th>3</th>\n",
       "      <td>604a8069c5bb4620b7394a7ec5603c18</td>\n",
       "      <td>2.961075</td>\n",
       "      <td>2.961193</td>\n",
       "      <td>2.960932</td>\n",
       "      <td>2.960932</td>\n",
       "      <td>32.240455</td>\n",
       "      <td>32.240537</td>\n",
       "      <td>32.240490</td>\n",
       "      <td>32.240490</td>\n",
       "      <td>2.961053</td>\n",
       "      <td>32.240440</td>\n",
       "      <td>NaN</td>\n",
       "      <td>NaN</td>\n",
       "      <td>NaN</td>\n",
       "      <td>NaN</td>\n",
       "      <td>NaN</td>\n",
       "    </tr>\n",
       "    <tr>\n",
       "      <th>4</th>\n",
       "      <td>9848201f11824ca5a7639aee61152122</td>\n",
       "      <td>2.960971</td>\n",
       "      <td>2.961101</td>\n",
       "      <td>2.961128</td>\n",
       "      <td>2.961035</td>\n",
       "      <td>32.240536</td>\n",
       "      <td>32.240386</td>\n",
       "      <td>32.240551</td>\n",
       "      <td>32.240573</td>\n",
       "      <td>2.960998</td>\n",
       "      <td>32.240462</td>\n",
       "      <td>NaN</td>\n",
       "      <td>NaN</td>\n",
       "      <td>NaN</td>\n",
       "      <td>NaN</td>\n",
       "      <td>NaN</td>\n",
       "    </tr>\n",
       "  </tbody>\n",
       "</table>\n",
       "</div>"
      ],
      "text/plain": [
       "                                 id  latitudes/0  latitudes/1  latitudes/2  \\\n",
       "0  7590cf21d1a446e3b07c92912a4a3c44     2.980511     2.980595     2.980763   \n",
       "1  c7b3fde63650440abbaaecec33e30bfa     2.965254     2.965177     2.965122   \n",
       "2  ef2b90b7ff804894a8413477cdfa0e86     2.961134     2.961096     2.961096   \n",
       "3  604a8069c5bb4620b7394a7ec5603c18     2.961075     2.961193     2.960932   \n",
       "4  9848201f11824ca5a7639aee61152122     2.960971     2.961101     2.961128   \n",
       "\n",
       "   latitudes/3  longitudes/0  longitudes/1  longitudes/2  longitudes/3  \\\n",
       "0     2.980530     32.531686     32.531705     32.531327     32.531240   \n",
       "1     2.966003     32.249756     32.250017     32.250278     32.250418   \n",
       "2     2.961162     32.240426     32.240401     32.240401     32.240312   \n",
       "3     2.960932     32.240455     32.240537     32.240490     32.240490   \n",
       "4     2.961035     32.240536     32.240386     32.240551     32.240573   \n",
       "\n",
       "   latitudes/4  longitudes/4  Unnamed: 11  Unnamed: 12  Unnamed: 13  \\\n",
       "0     2.980515     32.531657          NaN          NaN          NaN   \n",
       "1     2.965983     32.249870          NaN          NaN          NaN   \n",
       "2     2.960957     32.240535          NaN          NaN          NaN   \n",
       "3     2.961053     32.240440          NaN          NaN          NaN   \n",
       "4     2.960998     32.240462          NaN          NaN          NaN   \n",
       "\n",
       "   Unnamed: 14 Unnamed: 15  \n",
       "0          NaN         NaN  \n",
       "1          NaN           s  \n",
       "2          NaN         NaN  \n",
       "3          NaN         NaN  \n",
       "4          NaN         NaN  "
      ]
     },
     "execution_count": 74,
     "metadata": {},
     "output_type": "execute_result"
    }
   ],
   "source": [
    "### Visualize data \n",
    "garden_dataset.head(10)"
   ]
  },
  {
   "cell_type": "code",
   "execution_count": 75,
   "metadata": {},
   "outputs": [],
   "source": [
    "####Data preprocessing and cleansing\n",
    "dataset =  garden_dataset.loc[:, ~garden_dataset .columns.str.contains('^Unnamed')]"
   ]
  },
  {
   "cell_type": "code",
   "execution_count": 76,
   "metadata": {},
   "outputs": [
    {
     "data": {
      "text/html": [
       "<div>\n",
       "<style scoped>\n",
       "    .dataframe tbody tr th:only-of-type {\n",
       "        vertical-align: middle;\n",
       "    }\n",
       "\n",
       "    .dataframe tbody tr th {\n",
       "        vertical-align: top;\n",
       "    }\n",
       "\n",
       "    .dataframe thead th {\n",
       "        text-align: right;\n",
       "    }\n",
       "</style>\n",
       "<table border=\"1\" class=\"dataframe\">\n",
       "  <thead>\n",
       "    <tr style=\"text-align: right;\">\n",
       "      <th></th>\n",
       "      <th>id</th>\n",
       "      <th>latitudes/0</th>\n",
       "      <th>latitudes/1</th>\n",
       "      <th>latitudes/2</th>\n",
       "      <th>latitudes/3</th>\n",
       "      <th>longitudes/0</th>\n",
       "      <th>longitudes/1</th>\n",
       "      <th>longitudes/2</th>\n",
       "      <th>longitudes/3</th>\n",
       "      <th>latitudes/4</th>\n",
       "      <th>longitudes/4</th>\n",
       "    </tr>\n",
       "  </thead>\n",
       "  <tbody>\n",
       "    <tr>\n",
       "      <th>0</th>\n",
       "      <td>7590cf21d1a446e3b07c92912a4a3c44</td>\n",
       "      <td>2.980511</td>\n",
       "      <td>2.980595</td>\n",
       "      <td>2.980763</td>\n",
       "      <td>2.980530</td>\n",
       "      <td>32.531686</td>\n",
       "      <td>32.531705</td>\n",
       "      <td>32.531327</td>\n",
       "      <td>32.531240</td>\n",
       "      <td>2.980515</td>\n",
       "      <td>32.531657</td>\n",
       "    </tr>\n",
       "    <tr>\n",
       "      <th>1</th>\n",
       "      <td>c7b3fde63650440abbaaecec33e30bfa</td>\n",
       "      <td>2.965254</td>\n",
       "      <td>2.965177</td>\n",
       "      <td>2.965122</td>\n",
       "      <td>2.966003</td>\n",
       "      <td>32.249756</td>\n",
       "      <td>32.250017</td>\n",
       "      <td>32.250278</td>\n",
       "      <td>32.250418</td>\n",
       "      <td>2.965983</td>\n",
       "      <td>32.249870</td>\n",
       "    </tr>\n",
       "    <tr>\n",
       "      <th>2</th>\n",
       "      <td>ef2b90b7ff804894a8413477cdfa0e86</td>\n",
       "      <td>2.961134</td>\n",
       "      <td>2.961096</td>\n",
       "      <td>2.961096</td>\n",
       "      <td>2.961162</td>\n",
       "      <td>32.240426</td>\n",
       "      <td>32.240401</td>\n",
       "      <td>32.240401</td>\n",
       "      <td>32.240312</td>\n",
       "      <td>2.960957</td>\n",
       "      <td>32.240535</td>\n",
       "    </tr>\n",
       "    <tr>\n",
       "      <th>3</th>\n",
       "      <td>604a8069c5bb4620b7394a7ec5603c18</td>\n",
       "      <td>2.961075</td>\n",
       "      <td>2.961193</td>\n",
       "      <td>2.960932</td>\n",
       "      <td>2.960932</td>\n",
       "      <td>32.240455</td>\n",
       "      <td>32.240537</td>\n",
       "      <td>32.240490</td>\n",
       "      <td>32.240490</td>\n",
       "      <td>2.961053</td>\n",
       "      <td>32.240440</td>\n",
       "    </tr>\n",
       "    <tr>\n",
       "      <th>4</th>\n",
       "      <td>9848201f11824ca5a7639aee61152122</td>\n",
       "      <td>2.960971</td>\n",
       "      <td>2.961101</td>\n",
       "      <td>2.961128</td>\n",
       "      <td>2.961035</td>\n",
       "      <td>32.240536</td>\n",
       "      <td>32.240386</td>\n",
       "      <td>32.240551</td>\n",
       "      <td>32.240573</td>\n",
       "      <td>2.960998</td>\n",
       "      <td>32.240462</td>\n",
       "    </tr>\n",
       "  </tbody>\n",
       "</table>\n",
       "</div>"
      ],
      "text/plain": [
       "                                 id  latitudes/0  latitudes/1  latitudes/2  \\\n",
       "0  7590cf21d1a446e3b07c92912a4a3c44     2.980511     2.980595     2.980763   \n",
       "1  c7b3fde63650440abbaaecec33e30bfa     2.965254     2.965177     2.965122   \n",
       "2  ef2b90b7ff804894a8413477cdfa0e86     2.961134     2.961096     2.961096   \n",
       "3  604a8069c5bb4620b7394a7ec5603c18     2.961075     2.961193     2.960932   \n",
       "4  9848201f11824ca5a7639aee61152122     2.960971     2.961101     2.961128   \n",
       "\n",
       "   latitudes/3  longitudes/0  longitudes/1  longitudes/2  longitudes/3  \\\n",
       "0     2.980530     32.531686     32.531705     32.531327     32.531240   \n",
       "1     2.966003     32.249756     32.250017     32.250278     32.250418   \n",
       "2     2.961162     32.240426     32.240401     32.240401     32.240312   \n",
       "3     2.960932     32.240455     32.240537     32.240490     32.240490   \n",
       "4     2.961035     32.240536     32.240386     32.240551     32.240573   \n",
       "\n",
       "   latitudes/4  longitudes/4  \n",
       "0     2.980515     32.531657  \n",
       "1     2.965983     32.249870  \n",
       "2     2.960957     32.240535  \n",
       "3     2.961053     32.240440  \n",
       "4     2.960998     32.240462  "
      ]
     },
     "execution_count": 76,
     "metadata": {},
     "output_type": "execute_result"
    }
   ],
   "source": [
    "dataset"
   ]
  },
  {
   "cell_type": "code",
   "execution_count": 77,
   "metadata": {},
   "outputs": [],
   "source": [
    "#####getting columns from the dataframe so as to rearrange the dataset according to the naming convention of the data\n",
    "dataset_cols = dataset.columns.tolist()"
   ]
  },
  {
   "cell_type": "code",
   "execution_count": 78,
   "metadata": {},
   "outputs": [
    {
     "data": {
      "text/plain": [
       "['id',\n",
       " 'latitudes/0',\n",
       " 'latitudes/1',\n",
       " 'latitudes/2',\n",
       " 'latitudes/3',\n",
       " 'longitudes/0',\n",
       " 'longitudes/1',\n",
       " 'longitudes/2',\n",
       " 'longitudes/3',\n",
       " 'latitudes/4',\n",
       " 'longitudes/4']"
      ]
     },
     "execution_count": 78,
     "metadata": {},
     "output_type": "execute_result"
    }
   ],
   "source": [
    "dataset_cols"
   ]
  },
  {
   "cell_type": "code",
   "execution_count": 79,
   "metadata": {},
   "outputs": [],
   "source": [
    "dataset_rearranged = dataset[['id','latitudes/0','longitudes/0','latitudes/1','longitudes/1','latitudes/2',\n",
    "                              'longitudes/2','latitudes/3','longitudes/3','latitudes/4','longitudes/4']]"
   ]
  },
  {
   "cell_type": "code",
   "execution_count": 80,
   "metadata": {},
   "outputs": [
    {
     "data": {
      "text/html": [
       "<div>\n",
       "<style scoped>\n",
       "    .dataframe tbody tr th:only-of-type {\n",
       "        vertical-align: middle;\n",
       "    }\n",
       "\n",
       "    .dataframe tbody tr th {\n",
       "        vertical-align: top;\n",
       "    }\n",
       "\n",
       "    .dataframe thead th {\n",
       "        text-align: right;\n",
       "    }\n",
       "</style>\n",
       "<table border=\"1\" class=\"dataframe\">\n",
       "  <thead>\n",
       "    <tr style=\"text-align: right;\">\n",
       "      <th></th>\n",
       "      <th>id</th>\n",
       "      <th>latitudes/0</th>\n",
       "      <th>longitudes/0</th>\n",
       "      <th>latitudes/1</th>\n",
       "      <th>longitudes/1</th>\n",
       "      <th>latitudes/2</th>\n",
       "      <th>longitudes/2</th>\n",
       "      <th>latitudes/3</th>\n",
       "      <th>longitudes/3</th>\n",
       "      <th>latitudes/4</th>\n",
       "      <th>longitudes/4</th>\n",
       "    </tr>\n",
       "  </thead>\n",
       "  <tbody>\n",
       "    <tr>\n",
       "      <th>0</th>\n",
       "      <td>7590cf21d1a446e3b07c92912a4a3c44</td>\n",
       "      <td>2.980511</td>\n",
       "      <td>32.531686</td>\n",
       "      <td>2.980595</td>\n",
       "      <td>32.531705</td>\n",
       "      <td>2.980763</td>\n",
       "      <td>32.531327</td>\n",
       "      <td>2.980530</td>\n",
       "      <td>32.531240</td>\n",
       "      <td>2.980515</td>\n",
       "      <td>32.531657</td>\n",
       "    </tr>\n",
       "    <tr>\n",
       "      <th>1</th>\n",
       "      <td>c7b3fde63650440abbaaecec33e30bfa</td>\n",
       "      <td>2.965254</td>\n",
       "      <td>32.249756</td>\n",
       "      <td>2.965177</td>\n",
       "      <td>32.250017</td>\n",
       "      <td>2.965122</td>\n",
       "      <td>32.250278</td>\n",
       "      <td>2.966003</td>\n",
       "      <td>32.250418</td>\n",
       "      <td>2.965983</td>\n",
       "      <td>32.249870</td>\n",
       "    </tr>\n",
       "    <tr>\n",
       "      <th>2</th>\n",
       "      <td>ef2b90b7ff804894a8413477cdfa0e86</td>\n",
       "      <td>2.961134</td>\n",
       "      <td>32.240426</td>\n",
       "      <td>2.961096</td>\n",
       "      <td>32.240401</td>\n",
       "      <td>2.961096</td>\n",
       "      <td>32.240401</td>\n",
       "      <td>2.961162</td>\n",
       "      <td>32.240312</td>\n",
       "      <td>2.960957</td>\n",
       "      <td>32.240535</td>\n",
       "    </tr>\n",
       "    <tr>\n",
       "      <th>3</th>\n",
       "      <td>604a8069c5bb4620b7394a7ec5603c18</td>\n",
       "      <td>2.961075</td>\n",
       "      <td>32.240455</td>\n",
       "      <td>2.961193</td>\n",
       "      <td>32.240537</td>\n",
       "      <td>2.960932</td>\n",
       "      <td>32.240490</td>\n",
       "      <td>2.960932</td>\n",
       "      <td>32.240490</td>\n",
       "      <td>2.961053</td>\n",
       "      <td>32.240440</td>\n",
       "    </tr>\n",
       "    <tr>\n",
       "      <th>4</th>\n",
       "      <td>9848201f11824ca5a7639aee61152122</td>\n",
       "      <td>2.960971</td>\n",
       "      <td>32.240536</td>\n",
       "      <td>2.961101</td>\n",
       "      <td>32.240386</td>\n",
       "      <td>2.961128</td>\n",
       "      <td>32.240551</td>\n",
       "      <td>2.961035</td>\n",
       "      <td>32.240573</td>\n",
       "      <td>2.960998</td>\n",
       "      <td>32.240462</td>\n",
       "    </tr>\n",
       "  </tbody>\n",
       "</table>\n",
       "</div>"
      ],
      "text/plain": [
       "                                 id  latitudes/0  longitudes/0  latitudes/1  \\\n",
       "0  7590cf21d1a446e3b07c92912a4a3c44     2.980511     32.531686     2.980595   \n",
       "1  c7b3fde63650440abbaaecec33e30bfa     2.965254     32.249756     2.965177   \n",
       "2  ef2b90b7ff804894a8413477cdfa0e86     2.961134     32.240426     2.961096   \n",
       "3  604a8069c5bb4620b7394a7ec5603c18     2.961075     32.240455     2.961193   \n",
       "4  9848201f11824ca5a7639aee61152122     2.960971     32.240536     2.961101   \n",
       "\n",
       "   longitudes/1  latitudes/2  longitudes/2  latitudes/3  longitudes/3  \\\n",
       "0     32.531705     2.980763     32.531327     2.980530     32.531240   \n",
       "1     32.250017     2.965122     32.250278     2.966003     32.250418   \n",
       "2     32.240401     2.961096     32.240401     2.961162     32.240312   \n",
       "3     32.240537     2.960932     32.240490     2.960932     32.240490   \n",
       "4     32.240386     2.961128     32.240551     2.961035     32.240573   \n",
       "\n",
       "   latitudes/4  longitudes/4  \n",
       "0     2.980515     32.531657  \n",
       "1     2.965983     32.249870  \n",
       "2     2.960957     32.240535  \n",
       "3     2.961053     32.240440  \n",
       "4     2.960998     32.240462  "
      ]
     },
     "execution_count": 80,
     "metadata": {},
     "output_type": "execute_result"
    }
   ],
   "source": [
    "dataset_rearranged"
   ]
  },
  {
   "cell_type": "code",
   "execution_count": 81,
   "metadata": {},
   "outputs": [],
   "source": [
    "#Rename columns appropriately\n",
    "dataset_rearranged.columns =dataset_rearranged.columns.str.replace(r\"[/]\", \"_\")"
   ]
  },
  {
   "cell_type": "code",
   "execution_count": 82,
   "metadata": {},
   "outputs": [
    {
     "data": {
      "text/html": [
       "<div>\n",
       "<style scoped>\n",
       "    .dataframe tbody tr th:only-of-type {\n",
       "        vertical-align: middle;\n",
       "    }\n",
       "\n",
       "    .dataframe tbody tr th {\n",
       "        vertical-align: top;\n",
       "    }\n",
       "\n",
       "    .dataframe thead th {\n",
       "        text-align: right;\n",
       "    }\n",
       "</style>\n",
       "<table border=\"1\" class=\"dataframe\">\n",
       "  <thead>\n",
       "    <tr style=\"text-align: right;\">\n",
       "      <th></th>\n",
       "      <th>id</th>\n",
       "      <th>latitudes_0</th>\n",
       "      <th>longitudes_0</th>\n",
       "      <th>latitudes_1</th>\n",
       "      <th>longitudes_1</th>\n",
       "      <th>latitudes_2</th>\n",
       "      <th>longitudes_2</th>\n",
       "      <th>latitudes_3</th>\n",
       "      <th>longitudes_3</th>\n",
       "      <th>latitudes_4</th>\n",
       "      <th>longitudes_4</th>\n",
       "    </tr>\n",
       "  </thead>\n",
       "  <tbody>\n",
       "    <tr>\n",
       "      <th>0</th>\n",
       "      <td>7590cf21d1a446e3b07c92912a4a3c44</td>\n",
       "      <td>2.980511</td>\n",
       "      <td>32.531686</td>\n",
       "      <td>2.980595</td>\n",
       "      <td>32.531705</td>\n",
       "      <td>2.980763</td>\n",
       "      <td>32.531327</td>\n",
       "      <td>2.980530</td>\n",
       "      <td>32.531240</td>\n",
       "      <td>2.980515</td>\n",
       "      <td>32.531657</td>\n",
       "    </tr>\n",
       "    <tr>\n",
       "      <th>1</th>\n",
       "      <td>c7b3fde63650440abbaaecec33e30bfa</td>\n",
       "      <td>2.965254</td>\n",
       "      <td>32.249756</td>\n",
       "      <td>2.965177</td>\n",
       "      <td>32.250017</td>\n",
       "      <td>2.965122</td>\n",
       "      <td>32.250278</td>\n",
       "      <td>2.966003</td>\n",
       "      <td>32.250418</td>\n",
       "      <td>2.965983</td>\n",
       "      <td>32.249870</td>\n",
       "    </tr>\n",
       "    <tr>\n",
       "      <th>2</th>\n",
       "      <td>ef2b90b7ff804894a8413477cdfa0e86</td>\n",
       "      <td>2.961134</td>\n",
       "      <td>32.240426</td>\n",
       "      <td>2.961096</td>\n",
       "      <td>32.240401</td>\n",
       "      <td>2.961096</td>\n",
       "      <td>32.240401</td>\n",
       "      <td>2.961162</td>\n",
       "      <td>32.240312</td>\n",
       "      <td>2.960957</td>\n",
       "      <td>32.240535</td>\n",
       "    </tr>\n",
       "    <tr>\n",
       "      <th>3</th>\n",
       "      <td>604a8069c5bb4620b7394a7ec5603c18</td>\n",
       "      <td>2.961075</td>\n",
       "      <td>32.240455</td>\n",
       "      <td>2.961193</td>\n",
       "      <td>32.240537</td>\n",
       "      <td>2.960932</td>\n",
       "      <td>32.240490</td>\n",
       "      <td>2.960932</td>\n",
       "      <td>32.240490</td>\n",
       "      <td>2.961053</td>\n",
       "      <td>32.240440</td>\n",
       "    </tr>\n",
       "    <tr>\n",
       "      <th>4</th>\n",
       "      <td>9848201f11824ca5a7639aee61152122</td>\n",
       "      <td>2.960971</td>\n",
       "      <td>32.240536</td>\n",
       "      <td>2.961101</td>\n",
       "      <td>32.240386</td>\n",
       "      <td>2.961128</td>\n",
       "      <td>32.240551</td>\n",
       "      <td>2.961035</td>\n",
       "      <td>32.240573</td>\n",
       "      <td>2.960998</td>\n",
       "      <td>32.240462</td>\n",
       "    </tr>\n",
       "  </tbody>\n",
       "</table>\n",
       "</div>"
      ],
      "text/plain": [
       "                                 id  latitudes_0  longitudes_0  latitudes_1  \\\n",
       "0  7590cf21d1a446e3b07c92912a4a3c44     2.980511     32.531686     2.980595   \n",
       "1  c7b3fde63650440abbaaecec33e30bfa     2.965254     32.249756     2.965177   \n",
       "2  ef2b90b7ff804894a8413477cdfa0e86     2.961134     32.240426     2.961096   \n",
       "3  604a8069c5bb4620b7394a7ec5603c18     2.961075     32.240455     2.961193   \n",
       "4  9848201f11824ca5a7639aee61152122     2.960971     32.240536     2.961101   \n",
       "\n",
       "   longitudes_1  latitudes_2  longitudes_2  latitudes_3  longitudes_3  \\\n",
       "0     32.531705     2.980763     32.531327     2.980530     32.531240   \n",
       "1     32.250017     2.965122     32.250278     2.966003     32.250418   \n",
       "2     32.240401     2.961096     32.240401     2.961162     32.240312   \n",
       "3     32.240537     2.960932     32.240490     2.960932     32.240490   \n",
       "4     32.240386     2.961128     32.240551     2.961035     32.240573   \n",
       "\n",
       "   latitudes_4  longitudes_4  \n",
       "0     2.980515     32.531657  \n",
       "1     2.965983     32.249870  \n",
       "2     2.960957     32.240535  \n",
       "3     2.961053     32.240440  \n",
       "4     2.960998     32.240462  "
      ]
     },
     "execution_count": 82,
     "metadata": {},
     "output_type": "execute_result"
    }
   ],
   "source": [
    "dataset_rearranged"
   ]
  },
  {
   "cell_type": "code",
   "execution_count": 105,
   "metadata": {
    "collapsed": true,
    "jupyter": {
     "outputs_hidden": true
    }
   },
   "outputs": [
    {
     "data": {
      "text/html": [
       "<div style=\"width:100%;\"><div style=\"position:relative;width:100%;height:0;padding-bottom:60%;\"><span style=\"color:#565656\">Make this Notebook Trusted to load map: File -> Trust Notebook</span><iframe src=\"about:blank\" style=\"position:absolute;width:100%;height:100%;left:0;top:0;border:none !important;\" data-html=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 onload=\"this.contentDocument.open();this.contentDocument.write(atob(this.getAttribute('data-html')));this.contentDocument.close();\" allowfullscreen webkitallowfullscreen mozallowfullscreen></iframe></div></div>"
      ],
      "text/plain": [
       "<folium.folium.Map at 0x7f1234a43d60>"
      ]
     },
     "execution_count": 105,
     "metadata": {},
     "output_type": "execute_result"
    }
   ],
   "source": [
    "'''\n",
    "    Setting Up map view \n",
    "'''\n",
    "center =  [2.8780,32.7181]\n",
    "map_view = folium.Map(location=center, zoom_start=8)\n",
    "#display map\n",
    "map_view"
   ]
  },
  {
   "cell_type": "code",
   "execution_count": 124,
   "metadata": {},
   "outputs": [
    {
     "data": {
      "text/plain": [
       "['latitudes_0', 'latitudes_1', 'latitudes_2', 'latitudes_3', 'latitudes_4']"
      ]
     },
     "execution_count": 124,
     "metadata": {},
     "output_type": "execute_result"
    }
   ],
   "source": [
    "###filter columns for latitude\n",
    "filter_col_lt = [col for col in dataset_rearranged if col.startswith('latitudes_')]\n",
    "filter_col_lt"
   ]
  },
  {
   "cell_type": "code",
   "execution_count": 125,
   "metadata": {},
   "outputs": [
    {
     "data": {
      "text/html": [
       "<div>\n",
       "<style scoped>\n",
       "    .dataframe tbody tr th:only-of-type {\n",
       "        vertical-align: middle;\n",
       "    }\n",
       "\n",
       "    .dataframe tbody tr th {\n",
       "        vertical-align: top;\n",
       "    }\n",
       "\n",
       "    .dataframe thead th {\n",
       "        text-align: right;\n",
       "    }\n",
       "</style>\n",
       "<table border=\"1\" class=\"dataframe\">\n",
       "  <thead>\n",
       "    <tr style=\"text-align: right;\">\n",
       "      <th></th>\n",
       "      <th>latitudes_0</th>\n",
       "      <th>latitudes_1</th>\n",
       "      <th>latitudes_2</th>\n",
       "      <th>latitudes_3</th>\n",
       "      <th>latitudes_4</th>\n",
       "    </tr>\n",
       "  </thead>\n",
       "  <tbody>\n",
       "    <tr>\n",
       "      <th>0</th>\n",
       "      <td>2.980511</td>\n",
       "      <td>2.980595</td>\n",
       "      <td>2.980763</td>\n",
       "      <td>2.980530</td>\n",
       "      <td>2.980515</td>\n",
       "    </tr>\n",
       "    <tr>\n",
       "      <th>1</th>\n",
       "      <td>2.965254</td>\n",
       "      <td>2.965177</td>\n",
       "      <td>2.965122</td>\n",
       "      <td>2.966003</td>\n",
       "      <td>2.965983</td>\n",
       "    </tr>\n",
       "    <tr>\n",
       "      <th>2</th>\n",
       "      <td>2.961134</td>\n",
       "      <td>2.961096</td>\n",
       "      <td>2.961096</td>\n",
       "      <td>2.961162</td>\n",
       "      <td>2.960957</td>\n",
       "    </tr>\n",
       "    <tr>\n",
       "      <th>3</th>\n",
       "      <td>2.961075</td>\n",
       "      <td>2.961193</td>\n",
       "      <td>2.960932</td>\n",
       "      <td>2.960932</td>\n",
       "      <td>2.961053</td>\n",
       "    </tr>\n",
       "    <tr>\n",
       "      <th>4</th>\n",
       "      <td>2.960971</td>\n",
       "      <td>2.961101</td>\n",
       "      <td>2.961128</td>\n",
       "      <td>2.961035</td>\n",
       "      <td>2.960998</td>\n",
       "    </tr>\n",
       "  </tbody>\n",
       "</table>\n",
       "</div>"
      ],
      "text/plain": [
       "   latitudes_0  latitudes_1  latitudes_2  latitudes_3  latitudes_4\n",
       "0     2.980511     2.980595     2.980763     2.980530     2.980515\n",
       "1     2.965254     2.965177     2.965122     2.966003     2.965983\n",
       "2     2.961134     2.961096     2.961096     2.961162     2.960957\n",
       "3     2.961075     2.961193     2.960932     2.960932     2.961053\n",
       "4     2.960971     2.961101     2.961128     2.961035     2.960998"
      ]
     },
     "execution_count": 125,
     "metadata": {},
     "output_type": "execute_result"
    }
   ],
   "source": [
    "dataset_rearranged [filter_col_lt]"
   ]
  },
  {
   "cell_type": "code",
   "execution_count": 126,
   "metadata": {},
   "outputs": [
    {
     "data": {
      "text/plain": [
       "['longitudes_0',\n",
       " 'longitudes_1',\n",
       " 'longitudes_2',\n",
       " 'longitudes_3',\n",
       " 'longitudes_4']"
      ]
     },
     "execution_count": 126,
     "metadata": {},
     "output_type": "execute_result"
    }
   ],
   "source": [
    "###filter columns for latitude\n",
    "filter_col_ln = [col for col in dataset_rearranged if col.startswith('longitudes_')]\n",
    "filter_col_ln"
   ]
  },
  {
   "cell_type": "code",
   "execution_count": 127,
   "metadata": {},
   "outputs": [
    {
     "data": {
      "text/html": [
       "<div>\n",
       "<style scoped>\n",
       "    .dataframe tbody tr th:only-of-type {\n",
       "        vertical-align: middle;\n",
       "    }\n",
       "\n",
       "    .dataframe tbody tr th {\n",
       "        vertical-align: top;\n",
       "    }\n",
       "\n",
       "    .dataframe thead th {\n",
       "        text-align: right;\n",
       "    }\n",
       "</style>\n",
       "<table border=\"1\" class=\"dataframe\">\n",
       "  <thead>\n",
       "    <tr style=\"text-align: right;\">\n",
       "      <th></th>\n",
       "      <th>longitudes_0</th>\n",
       "      <th>longitudes_1</th>\n",
       "      <th>longitudes_2</th>\n",
       "      <th>longitudes_3</th>\n",
       "      <th>longitudes_4</th>\n",
       "    </tr>\n",
       "  </thead>\n",
       "  <tbody>\n",
       "    <tr>\n",
       "      <th>0</th>\n",
       "      <td>32.531686</td>\n",
       "      <td>32.531705</td>\n",
       "      <td>32.531327</td>\n",
       "      <td>32.531240</td>\n",
       "      <td>32.531657</td>\n",
       "    </tr>\n",
       "    <tr>\n",
       "      <th>1</th>\n",
       "      <td>32.249756</td>\n",
       "      <td>32.250017</td>\n",
       "      <td>32.250278</td>\n",
       "      <td>32.250418</td>\n",
       "      <td>32.249870</td>\n",
       "    </tr>\n",
       "    <tr>\n",
       "      <th>2</th>\n",
       "      <td>32.240426</td>\n",
       "      <td>32.240401</td>\n",
       "      <td>32.240401</td>\n",
       "      <td>32.240312</td>\n",
       "      <td>32.240535</td>\n",
       "    </tr>\n",
       "    <tr>\n",
       "      <th>3</th>\n",
       "      <td>32.240455</td>\n",
       "      <td>32.240537</td>\n",
       "      <td>32.240490</td>\n",
       "      <td>32.240490</td>\n",
       "      <td>32.240440</td>\n",
       "    </tr>\n",
       "    <tr>\n",
       "      <th>4</th>\n",
       "      <td>32.240536</td>\n",
       "      <td>32.240386</td>\n",
       "      <td>32.240551</td>\n",
       "      <td>32.240573</td>\n",
       "      <td>32.240462</td>\n",
       "    </tr>\n",
       "  </tbody>\n",
       "</table>\n",
       "</div>"
      ],
      "text/plain": [
       "   longitudes_0  longitudes_1  longitudes_2  longitudes_3  longitudes_4\n",
       "0     32.531686     32.531705     32.531327     32.531240     32.531657\n",
       "1     32.249756     32.250017     32.250278     32.250418     32.249870\n",
       "2     32.240426     32.240401     32.240401     32.240312     32.240535\n",
       "3     32.240455     32.240537     32.240490     32.240490     32.240440\n",
       "4     32.240536     32.240386     32.240551     32.240573     32.240462"
      ]
     },
     "execution_count": 127,
     "metadata": {},
     "output_type": "execute_result"
    }
   ],
   "source": [
    "dataset_rearranged [filter_col_ln]"
   ]
  },
  {
   "cell_type": "code",
   "execution_count": 132,
   "metadata": {},
   "outputs": [],
   "source": [
    "#calculate the mean of latitudes and longitudes\n",
    "lts = []\n",
    "lnts = []\n",
    "for ix, d in dataset_rearranged.iterrows():\n",
    "    for x in range(0,4):\n",
    "        lt = d['latitudes_{}'.format(x)]\n",
    "        ln= d['longitudes_{}'.format(x)]\n",
    "        lts.append(lt)\n",
    "        lnts.append(ln)"
   ]
  },
  {
   "cell_type": "code",
   "execution_count": 136,
   "metadata": {},
   "outputs": [],
   "source": [
    "sum = 0\n",
    "for ele in lts:\n",
    "    sum += ele\n",
    "res_lts = sum / len(lts)"
   ]
  },
  {
   "cell_type": "code",
   "execution_count": 137,
   "metadata": {},
   "outputs": [
    {
     "data": {
      "text/plain": [
       "2.965840561299998"
      ]
     },
     "execution_count": 137,
     "metadata": {},
     "output_type": "execute_result"
    }
   ],
   "source": [
    "res_lts"
   ]
  },
  {
   "cell_type": "code",
   "execution_count": 138,
   "metadata": {},
   "outputs": [],
   "source": [
    "sum = 0\n",
    "for ele in lnts:\n",
    "    sum += ele\n",
    "res_lnts = sum / len(lnts)"
   ]
  },
  {
   "cell_type": "code",
   "execution_count": 139,
   "metadata": {},
   "outputs": [
    {
     "data": {
      "text/plain": [
       "32.3005992245"
      ]
     },
     "execution_count": 139,
     "metadata": {},
     "output_type": "execute_result"
    }
   ],
   "source": [
    "res_lnts"
   ]
  },
  {
   "cell_type": "code",
   "execution_count": 160,
   "metadata": {
    "collapsed": true,
    "jupyter": {
     "outputs_hidden": true
    }
   },
   "outputs": [
    {
     "data": {
      "text/html": [
       "<div style=\"width:100%;\"><div style=\"position:relative;width:100%;height:0;padding-bottom:60%;\"><span style=\"color:#565656\">Make this Notebook Trusted to load map: File -> Trust Notebook</span><iframe src=\"about:blank\" style=\"position:absolute;width:100%;height:100%;left:0;top:0;border:none !important;\" data-html=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 onload=\"this.contentDocument.open();this.contentDocument.write(atob(this.getAttribute('data-html')));this.contentDocument.close();\" allowfullscreen webkitallowfullscreen mozallowfullscreen></iframe></div></div>"
      ],
      "text/plain": [
       "<folium.folium.Map at 0x7f1274017490>"
      ]
     },
     "execution_count": 160,
     "metadata": {},
     "output_type": "execute_result"
    }
   ],
   "source": [
    "'''\n",
    "        Plotting on a map using folium map \n",
    "'''\n",
    "center = [res_lts,res_lnts]\n",
    "\n",
    "map_uganda = folium.Map(location=center, zoom_start=8)\n",
    "for index, garden in dataset_rearranged.iterrows():\n",
    "    for i in range(0,4):\n",
    "        location = [garden['latitudes_{}'.format(i)],garden['longitudes_{}'.format(i)]]\n",
    "        folium.Marker(location, popup = f'Garden:{garden[\"id\"]}').add_to(map_uganda)\n",
    "\n",
    "# save map to html file\n",
    "map_uganda"
   ]
  },
  {
   "cell_type": "code",
   "execution_count": null,
   "metadata": {},
   "outputs": [],
   "source": []
  }
 ],
 "metadata": {
  "kernelspec": {
   "display_name": "Python 3",
   "language": "python",
   "name": "python3"
  },
  "language_info": {
   "codemirror_mode": {
    "name": "ipython",
    "version": 3
   },
   "file_extension": ".py",
   "mimetype": "text/x-python",
   "name": "python",
   "nbconvert_exporter": "python",
   "pygments_lexer": "ipython3",
   "version": "3.8.5"
  }
 },
 "nbformat": 4,
 "nbformat_minor": 4
}
