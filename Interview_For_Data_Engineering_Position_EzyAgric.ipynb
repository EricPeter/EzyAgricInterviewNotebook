{
 "cells": [
  {
   "cell_type": "code",
   "execution_count": 72,
   "metadata": {},
   "outputs": [],
   "source": [
    "#Loading all the necessary packages \n",
    "import geopandas\n",
    "import folium\n",
    "import pandas as pd \n",
    "from shapely.geometry import Point\n",
    "import geopandas as gpd\n",
    "from geopandas import GeoDataFrame\n"
   ]
  },
  {
   "cell_type": "code",
   "execution_count": 73,
   "metadata": {},
   "outputs": [],
   "source": [
    "##Loading the dataset \n",
    "garden_dataset = pd.read_excel(\"Interview Challenge.xlsx\")"
   ]
  },
  {
   "cell_type": "code",
   "execution_count": 74,
   "metadata": {},
   "outputs": [
    {
     "data": {
      "text/html": [
       "<div>\n",
       "<style scoped>\n",
       "    .dataframe tbody tr th:only-of-type {\n",
       "        vertical-align: middle;\n",
       "    }\n",
       "\n",
       "    .dataframe tbody tr th {\n",
       "        vertical-align: top;\n",
       "    }\n",
       "\n",
       "    .dataframe thead th {\n",
       "        text-align: right;\n",
       "    }\n",
       "</style>\n",
       "<table border=\"1\" class=\"dataframe\">\n",
       "  <thead>\n",
       "    <tr style=\"text-align: right;\">\n",
       "      <th></th>\n",
       "      <th>id</th>\n",
       "      <th>latitudes/0</th>\n",
       "      <th>latitudes/1</th>\n",
       "      <th>latitudes/2</th>\n",
       "      <th>latitudes/3</th>\n",
       "      <th>longitudes/0</th>\n",
       "      <th>longitudes/1</th>\n",
       "      <th>longitudes/2</th>\n",
       "      <th>longitudes/3</th>\n",
       "      <th>latitudes/4</th>\n",
       "      <th>longitudes/4</th>\n",
       "      <th>Unnamed: 11</th>\n",
       "      <th>Unnamed: 12</th>\n",
       "      <th>Unnamed: 13</th>\n",
       "      <th>Unnamed: 14</th>\n",
       "      <th>Unnamed: 15</th>\n",
       "    </tr>\n",
       "  </thead>\n",
       "  <tbody>\n",
       "    <tr>\n",
       "      <th>0</th>\n",
       "      <td>7590cf21d1a446e3b07c92912a4a3c44</td>\n",
       "      <td>2.980511</td>\n",
       "      <td>2.980595</td>\n",
       "      <td>2.980763</td>\n",
       "      <td>2.980530</td>\n",
       "      <td>32.531686</td>\n",
       "      <td>32.531705</td>\n",
       "      <td>32.531327</td>\n",
       "      <td>32.531240</td>\n",
       "      <td>2.980515</td>\n",
       "      <td>32.531657</td>\n",
       "      <td>NaN</td>\n",
       "      <td>NaN</td>\n",
       "      <td>NaN</td>\n",
       "      <td>NaN</td>\n",
       "      <td>NaN</td>\n",
       "    </tr>\n",
       "    <tr>\n",
       "      <th>1</th>\n",
       "      <td>c7b3fde63650440abbaaecec33e30bfa</td>\n",
       "      <td>2.965254</td>\n",
       "      <td>2.965177</td>\n",
       "      <td>2.965122</td>\n",
       "      <td>2.966003</td>\n",
       "      <td>32.249756</td>\n",
       "      <td>32.250017</td>\n",
       "      <td>32.250278</td>\n",
       "      <td>32.250418</td>\n",
       "      <td>2.965983</td>\n",
       "      <td>32.249870</td>\n",
       "      <td>NaN</td>\n",
       "      <td>NaN</td>\n",
       "      <td>NaN</td>\n",
       "      <td>NaN</td>\n",
       "      <td>s</td>\n",
       "    </tr>\n",
       "    <tr>\n",
       "      <th>2</th>\n",
       "      <td>ef2b90b7ff804894a8413477cdfa0e86</td>\n",
       "      <td>2.961134</td>\n",
       "      <td>2.961096</td>\n",
       "      <td>2.961096</td>\n",
       "      <td>2.961162</td>\n",
       "      <td>32.240426</td>\n",
       "      <td>32.240401</td>\n",
       "      <td>32.240401</td>\n",
       "      <td>32.240312</td>\n",
       "      <td>2.960957</td>\n",
       "      <td>32.240535</td>\n",
       "      <td>NaN</td>\n",
       "      <td>NaN</td>\n",
       "      <td>NaN</td>\n",
       "      <td>NaN</td>\n",
       "      <td>NaN</td>\n",
       "    </tr>\n",
       "    <tr>\n",
       "      <th>3</th>\n",
       "      <td>604a8069c5bb4620b7394a7ec5603c18</td>\n",
       "      <td>2.961075</td>\n",
       "      <td>2.961193</td>\n",
       "      <td>2.960932</td>\n",
       "      <td>2.960932</td>\n",
       "      <td>32.240455</td>\n",
       "      <td>32.240537</td>\n",
       "      <td>32.240490</td>\n",
       "      <td>32.240490</td>\n",
       "      <td>2.961053</td>\n",
       "      <td>32.240440</td>\n",
       "      <td>NaN</td>\n",
       "      <td>NaN</td>\n",
       "      <td>NaN</td>\n",
       "      <td>NaN</td>\n",
       "      <td>NaN</td>\n",
       "    </tr>\n",
       "    <tr>\n",
       "      <th>4</th>\n",
       "      <td>9848201f11824ca5a7639aee61152122</td>\n",
       "      <td>2.960971</td>\n",
       "      <td>2.961101</td>\n",
       "      <td>2.961128</td>\n",
       "      <td>2.961035</td>\n",
       "      <td>32.240536</td>\n",
       "      <td>32.240386</td>\n",
       "      <td>32.240551</td>\n",
       "      <td>32.240573</td>\n",
       "      <td>2.960998</td>\n",
       "      <td>32.240462</td>\n",
       "      <td>NaN</td>\n",
       "      <td>NaN</td>\n",
       "      <td>NaN</td>\n",
       "      <td>NaN</td>\n",
       "      <td>NaN</td>\n",
       "    </tr>\n",
       "  </tbody>\n",
       "</table>\n",
       "</div>"
      ],
      "text/plain": [
       "                                 id  latitudes/0  latitudes/1  latitudes/2  \\\n",
       "0  7590cf21d1a446e3b07c92912a4a3c44     2.980511     2.980595     2.980763   \n",
       "1  c7b3fde63650440abbaaecec33e30bfa     2.965254     2.965177     2.965122   \n",
       "2  ef2b90b7ff804894a8413477cdfa0e86     2.961134     2.961096     2.961096   \n",
       "3  604a8069c5bb4620b7394a7ec5603c18     2.961075     2.961193     2.960932   \n",
       "4  9848201f11824ca5a7639aee61152122     2.960971     2.961101     2.961128   \n",
       "\n",
       "   latitudes/3  longitudes/0  longitudes/1  longitudes/2  longitudes/3  \\\n",
       "0     2.980530     32.531686     32.531705     32.531327     32.531240   \n",
       "1     2.966003     32.249756     32.250017     32.250278     32.250418   \n",
       "2     2.961162     32.240426     32.240401     32.240401     32.240312   \n",
       "3     2.960932     32.240455     32.240537     32.240490     32.240490   \n",
       "4     2.961035     32.240536     32.240386     32.240551     32.240573   \n",
       "\n",
       "   latitudes/4  longitudes/4  Unnamed: 11  Unnamed: 12  Unnamed: 13  \\\n",
       "0     2.980515     32.531657          NaN          NaN          NaN   \n",
       "1     2.965983     32.249870          NaN          NaN          NaN   \n",
       "2     2.960957     32.240535          NaN          NaN          NaN   \n",
       "3     2.961053     32.240440          NaN          NaN          NaN   \n",
       "4     2.960998     32.240462          NaN          NaN          NaN   \n",
       "\n",
       "   Unnamed: 14 Unnamed: 15  \n",
       "0          NaN         NaN  \n",
       "1          NaN           s  \n",
       "2          NaN         NaN  \n",
       "3          NaN         NaN  \n",
       "4          NaN         NaN  "
      ]
     },
     "execution_count": 74,
     "metadata": {},
     "output_type": "execute_result"
    }
   ],
   "source": [
    "### Visualize data \n",
    "garden_dataset.head(10)"
   ]
  },
  {
   "cell_type": "code",
   "execution_count": 75,
   "metadata": {},
   "outputs": [],
   "source": [
    "####Data preprocessing and cleansing\n",
    "dataset =  garden_dataset.loc[:, ~garden_dataset .columns.str.contains('^Unnamed')]"
   ]
  },
  {
   "cell_type": "code",
   "execution_count": 76,
   "metadata": {},
   "outputs": [
    {
     "data": {
      "text/html": [
       "<div>\n",
       "<style scoped>\n",
       "    .dataframe tbody tr th:only-of-type {\n",
       "        vertical-align: middle;\n",
       "    }\n",
       "\n",
       "    .dataframe tbody tr th {\n",
       "        vertical-align: top;\n",
       "    }\n",
       "\n",
       "    .dataframe thead th {\n",
       "        text-align: right;\n",
       "    }\n",
       "</style>\n",
       "<table border=\"1\" class=\"dataframe\">\n",
       "  <thead>\n",
       "    <tr style=\"text-align: right;\">\n",
       "      <th></th>\n",
       "      <th>id</th>\n",
       "      <th>latitudes/0</th>\n",
       "      <th>latitudes/1</th>\n",
       "      <th>latitudes/2</th>\n",
       "      <th>latitudes/3</th>\n",
       "      <th>longitudes/0</th>\n",
       "      <th>longitudes/1</th>\n",
       "      <th>longitudes/2</th>\n",
       "      <th>longitudes/3</th>\n",
       "      <th>latitudes/4</th>\n",
       "      <th>longitudes/4</th>\n",
       "    </tr>\n",
       "  </thead>\n",
       "  <tbody>\n",
       "    <tr>\n",
       "      <th>0</th>\n",
       "      <td>7590cf21d1a446e3b07c92912a4a3c44</td>\n",
       "      <td>2.980511</td>\n",
       "      <td>2.980595</td>\n",
       "      <td>2.980763</td>\n",
       "      <td>2.980530</td>\n",
       "      <td>32.531686</td>\n",
       "      <td>32.531705</td>\n",
       "      <td>32.531327</td>\n",
       "      <td>32.531240</td>\n",
       "      <td>2.980515</td>\n",
       "      <td>32.531657</td>\n",
       "    </tr>\n",
       "    <tr>\n",
       "      <th>1</th>\n",
       "      <td>c7b3fde63650440abbaaecec33e30bfa</td>\n",
       "      <td>2.965254</td>\n",
       "      <td>2.965177</td>\n",
       "      <td>2.965122</td>\n",
       "      <td>2.966003</td>\n",
       "      <td>32.249756</td>\n",
       "      <td>32.250017</td>\n",
       "      <td>32.250278</td>\n",
       "      <td>32.250418</td>\n",
       "      <td>2.965983</td>\n",
       "      <td>32.249870</td>\n",
       "    </tr>\n",
       "    <tr>\n",
       "      <th>2</th>\n",
       "      <td>ef2b90b7ff804894a8413477cdfa0e86</td>\n",
       "      <td>2.961134</td>\n",
       "      <td>2.961096</td>\n",
       "      <td>2.961096</td>\n",
       "      <td>2.961162</td>\n",
       "      <td>32.240426</td>\n",
       "      <td>32.240401</td>\n",
       "      <td>32.240401</td>\n",
       "      <td>32.240312</td>\n",
       "      <td>2.960957</td>\n",
       "      <td>32.240535</td>\n",
       "    </tr>\n",
       "    <tr>\n",
       "      <th>3</th>\n",
       "      <td>604a8069c5bb4620b7394a7ec5603c18</td>\n",
       "      <td>2.961075</td>\n",
       "      <td>2.961193</td>\n",
       "      <td>2.960932</td>\n",
       "      <td>2.960932</td>\n",
       "      <td>32.240455</td>\n",
       "      <td>32.240537</td>\n",
       "      <td>32.240490</td>\n",
       "      <td>32.240490</td>\n",
       "      <td>2.961053</td>\n",
       "      <td>32.240440</td>\n",
       "    </tr>\n",
       "    <tr>\n",
       "      <th>4</th>\n",
       "      <td>9848201f11824ca5a7639aee61152122</td>\n",
       "      <td>2.960971</td>\n",
       "      <td>2.961101</td>\n",
       "      <td>2.961128</td>\n",
       "      <td>2.961035</td>\n",
       "      <td>32.240536</td>\n",
       "      <td>32.240386</td>\n",
       "      <td>32.240551</td>\n",
       "      <td>32.240573</td>\n",
       "      <td>2.960998</td>\n",
       "      <td>32.240462</td>\n",
       "    </tr>\n",
       "  </tbody>\n",
       "</table>\n",
       "</div>"
      ],
      "text/plain": [
       "                                 id  latitudes/0  latitudes/1  latitudes/2  \\\n",
       "0  7590cf21d1a446e3b07c92912a4a3c44     2.980511     2.980595     2.980763   \n",
       "1  c7b3fde63650440abbaaecec33e30bfa     2.965254     2.965177     2.965122   \n",
       "2  ef2b90b7ff804894a8413477cdfa0e86     2.961134     2.961096     2.961096   \n",
       "3  604a8069c5bb4620b7394a7ec5603c18     2.961075     2.961193     2.960932   \n",
       "4  9848201f11824ca5a7639aee61152122     2.960971     2.961101     2.961128   \n",
       "\n",
       "   latitudes/3  longitudes/0  longitudes/1  longitudes/2  longitudes/3  \\\n",
       "0     2.980530     32.531686     32.531705     32.531327     32.531240   \n",
       "1     2.966003     32.249756     32.250017     32.250278     32.250418   \n",
       "2     2.961162     32.240426     32.240401     32.240401     32.240312   \n",
       "3     2.960932     32.240455     32.240537     32.240490     32.240490   \n",
       "4     2.961035     32.240536     32.240386     32.240551     32.240573   \n",
       "\n",
       "   latitudes/4  longitudes/4  \n",
       "0     2.980515     32.531657  \n",
       "1     2.965983     32.249870  \n",
       "2     2.960957     32.240535  \n",
       "3     2.961053     32.240440  \n",
       "4     2.960998     32.240462  "
      ]
     },
     "execution_count": 76,
     "metadata": {},
     "output_type": "execute_result"
    }
   ],
   "source": [
    "dataset"
   ]
  },
  {
   "cell_type": "code",
   "execution_count": 77,
   "metadata": {},
   "outputs": [],
   "source": [
    "#####getting columns from the dataframe so as to rearrange the dataset according to the naming convention of the data\n",
    "dataset_cols = dataset.columns.tolist()"
   ]
  },
  {
   "cell_type": "code",
   "execution_count": 78,
   "metadata": {},
   "outputs": [
    {
     "data": {
      "text/plain": [
       "['id',\n",
       " 'latitudes/0',\n",
       " 'latitudes/1',\n",
       " 'latitudes/2',\n",
       " 'latitudes/3',\n",
       " 'longitudes/0',\n",
       " 'longitudes/1',\n",
       " 'longitudes/2',\n",
       " 'longitudes/3',\n",
       " 'latitudes/4',\n",
       " 'longitudes/4']"
      ]
     },
     "execution_count": 78,
     "metadata": {},
     "output_type": "execute_result"
    }
   ],
   "source": [
    "dataset_cols"
   ]
  },
  {
   "cell_type": "code",
   "execution_count": 79,
   "metadata": {},
   "outputs": [],
   "source": [
    "dataset_rearranged = dataset[['id','latitudes/0','longitudes/0','latitudes/1','longitudes/1','latitudes/2',\n",
    "                              'longitudes/2','latitudes/3','longitudes/3','latitudes/4','longitudes/4']]"
   ]
  },
  {
   "cell_type": "code",
   "execution_count": 80,
   "metadata": {},
   "outputs": [
    {
     "data": {
      "text/html": [
       "<div>\n",
       "<style scoped>\n",
       "    .dataframe tbody tr th:only-of-type {\n",
       "        vertical-align: middle;\n",
       "    }\n",
       "\n",
       "    .dataframe tbody tr th {\n",
       "        vertical-align: top;\n",
       "    }\n",
       "\n",
       "    .dataframe thead th {\n",
       "        text-align: right;\n",
       "    }\n",
       "</style>\n",
       "<table border=\"1\" class=\"dataframe\">\n",
       "  <thead>\n",
       "    <tr style=\"text-align: right;\">\n",
       "      <th></th>\n",
       "      <th>id</th>\n",
       "      <th>latitudes/0</th>\n",
       "      <th>longitudes/0</th>\n",
       "      <th>latitudes/1</th>\n",
       "      <th>longitudes/1</th>\n",
       "      <th>latitudes/2</th>\n",
       "      <th>longitudes/2</th>\n",
       "      <th>latitudes/3</th>\n",
       "      <th>longitudes/3</th>\n",
       "      <th>latitudes/4</th>\n",
       "      <th>longitudes/4</th>\n",
       "    </tr>\n",
       "  </thead>\n",
       "  <tbody>\n",
       "    <tr>\n",
       "      <th>0</th>\n",
       "      <td>7590cf21d1a446e3b07c92912a4a3c44</td>\n",
       "      <td>2.980511</td>\n",
       "      <td>32.531686</td>\n",
       "      <td>2.980595</td>\n",
       "      <td>32.531705</td>\n",
       "      <td>2.980763</td>\n",
       "      <td>32.531327</td>\n",
       "      <td>2.980530</td>\n",
       "      <td>32.531240</td>\n",
       "      <td>2.980515</td>\n",
       "      <td>32.531657</td>\n",
       "    </tr>\n",
       "    <tr>\n",
       "      <th>1</th>\n",
       "      <td>c7b3fde63650440abbaaecec33e30bfa</td>\n",
       "      <td>2.965254</td>\n",
       "      <td>32.249756</td>\n",
       "      <td>2.965177</td>\n",
       "      <td>32.250017</td>\n",
       "      <td>2.965122</td>\n",
       "      <td>32.250278</td>\n",
       "      <td>2.966003</td>\n",
       "      <td>32.250418</td>\n",
       "      <td>2.965983</td>\n",
       "      <td>32.249870</td>\n",
       "    </tr>\n",
       "    <tr>\n",
       "      <th>2</th>\n",
       "      <td>ef2b90b7ff804894a8413477cdfa0e86</td>\n",
       "      <td>2.961134</td>\n",
       "      <td>32.240426</td>\n",
       "      <td>2.961096</td>\n",
       "      <td>32.240401</td>\n",
       "      <td>2.961096</td>\n",
       "      <td>32.240401</td>\n",
       "      <td>2.961162</td>\n",
       "      <td>32.240312</td>\n",
       "      <td>2.960957</td>\n",
       "      <td>32.240535</td>\n",
       "    </tr>\n",
       "    <tr>\n",
       "      <th>3</th>\n",
       "      <td>604a8069c5bb4620b7394a7ec5603c18</td>\n",
       "      <td>2.961075</td>\n",
       "      <td>32.240455</td>\n",
       "      <td>2.961193</td>\n",
       "      <td>32.240537</td>\n",
       "      <td>2.960932</td>\n",
       "      <td>32.240490</td>\n",
       "      <td>2.960932</td>\n",
       "      <td>32.240490</td>\n",
       "      <td>2.961053</td>\n",
       "      <td>32.240440</td>\n",
       "    </tr>\n",
       "    <tr>\n",
       "      <th>4</th>\n",
       "      <td>9848201f11824ca5a7639aee61152122</td>\n",
       "      <td>2.960971</td>\n",
       "      <td>32.240536</td>\n",
       "      <td>2.961101</td>\n",
       "      <td>32.240386</td>\n",
       "      <td>2.961128</td>\n",
       "      <td>32.240551</td>\n",
       "      <td>2.961035</td>\n",
       "      <td>32.240573</td>\n",
       "      <td>2.960998</td>\n",
       "      <td>32.240462</td>\n",
       "    </tr>\n",
       "  </tbody>\n",
       "</table>\n",
       "</div>"
      ],
      "text/plain": [
       "                                 id  latitudes/0  longitudes/0  latitudes/1  \\\n",
       "0  7590cf21d1a446e3b07c92912a4a3c44     2.980511     32.531686     2.980595   \n",
       "1  c7b3fde63650440abbaaecec33e30bfa     2.965254     32.249756     2.965177   \n",
       "2  ef2b90b7ff804894a8413477cdfa0e86     2.961134     32.240426     2.961096   \n",
       "3  604a8069c5bb4620b7394a7ec5603c18     2.961075     32.240455     2.961193   \n",
       "4  9848201f11824ca5a7639aee61152122     2.960971     32.240536     2.961101   \n",
       "\n",
       "   longitudes/1  latitudes/2  longitudes/2  latitudes/3  longitudes/3  \\\n",
       "0     32.531705     2.980763     32.531327     2.980530     32.531240   \n",
       "1     32.250017     2.965122     32.250278     2.966003     32.250418   \n",
       "2     32.240401     2.961096     32.240401     2.961162     32.240312   \n",
       "3     32.240537     2.960932     32.240490     2.960932     32.240490   \n",
       "4     32.240386     2.961128     32.240551     2.961035     32.240573   \n",
       "\n",
       "   latitudes/4  longitudes/4  \n",
       "0     2.980515     32.531657  \n",
       "1     2.965983     32.249870  \n",
       "2     2.960957     32.240535  \n",
       "3     2.961053     32.240440  \n",
       "4     2.960998     32.240462  "
      ]
     },
     "execution_count": 80,
     "metadata": {},
     "output_type": "execute_result"
    }
   ],
   "source": [
    "dataset_rearranged"
   ]
  },
  {
   "cell_type": "code",
   "execution_count": 81,
   "metadata": {},
   "outputs": [],
   "source": [
    "#Rename columns appropriately\n",
    "dataset_rearranged.columns =dataset_rearranged.columns.str.replace(r\"[/]\", \"_\")"
   ]
  },
  {
   "cell_type": "code",
   "execution_count": 82,
   "metadata": {},
   "outputs": [
    {
     "data": {
      "text/html": [
       "<div>\n",
       "<style scoped>\n",
       "    .dataframe tbody tr th:only-of-type {\n",
       "        vertical-align: middle;\n",
       "    }\n",
       "\n",
       "    .dataframe tbody tr th {\n",
       "        vertical-align: top;\n",
       "    }\n",
       "\n",
       "    .dataframe thead th {\n",
       "        text-align: right;\n",
       "    }\n",
       "</style>\n",
       "<table border=\"1\" class=\"dataframe\">\n",
       "  <thead>\n",
       "    <tr style=\"text-align: right;\">\n",
       "      <th></th>\n",
       "      <th>id</th>\n",
       "      <th>latitudes_0</th>\n",
       "      <th>longitudes_0</th>\n",
       "      <th>latitudes_1</th>\n",
       "      <th>longitudes_1</th>\n",
       "      <th>latitudes_2</th>\n",
       "      <th>longitudes_2</th>\n",
       "      <th>latitudes_3</th>\n",
       "      <th>longitudes_3</th>\n",
       "      <th>latitudes_4</th>\n",
       "      <th>longitudes_4</th>\n",
       "    </tr>\n",
       "  </thead>\n",
       "  <tbody>\n",
       "    <tr>\n",
       "      <th>0</th>\n",
       "      <td>7590cf21d1a446e3b07c92912a4a3c44</td>\n",
       "      <td>2.980511</td>\n",
       "      <td>32.531686</td>\n",
       "      <td>2.980595</td>\n",
       "      <td>32.531705</td>\n",
       "      <td>2.980763</td>\n",
       "      <td>32.531327</td>\n",
       "      <td>2.980530</td>\n",
       "      <td>32.531240</td>\n",
       "      <td>2.980515</td>\n",
       "      <td>32.531657</td>\n",
       "    </tr>\n",
       "    <tr>\n",
       "      <th>1</th>\n",
       "      <td>c7b3fde63650440abbaaecec33e30bfa</td>\n",
       "      <td>2.965254</td>\n",
       "      <td>32.249756</td>\n",
       "      <td>2.965177</td>\n",
       "      <td>32.250017</td>\n",
       "      <td>2.965122</td>\n",
       "      <td>32.250278</td>\n",
       "      <td>2.966003</td>\n",
       "      <td>32.250418</td>\n",
       "      <td>2.965983</td>\n",
       "      <td>32.249870</td>\n",
       "    </tr>\n",
       "    <tr>\n",
       "      <th>2</th>\n",
       "      <td>ef2b90b7ff804894a8413477cdfa0e86</td>\n",
       "      <td>2.961134</td>\n",
       "      <td>32.240426</td>\n",
       "      <td>2.961096</td>\n",
       "      <td>32.240401</td>\n",
       "      <td>2.961096</td>\n",
       "      <td>32.240401</td>\n",
       "      <td>2.961162</td>\n",
       "      <td>32.240312</td>\n",
       "      <td>2.960957</td>\n",
       "      <td>32.240535</td>\n",
       "    </tr>\n",
       "    <tr>\n",
       "      <th>3</th>\n",
       "      <td>604a8069c5bb4620b7394a7ec5603c18</td>\n",
       "      <td>2.961075</td>\n",
       "      <td>32.240455</td>\n",
       "      <td>2.961193</td>\n",
       "      <td>32.240537</td>\n",
       "      <td>2.960932</td>\n",
       "      <td>32.240490</td>\n",
       "      <td>2.960932</td>\n",
       "      <td>32.240490</td>\n",
       "      <td>2.961053</td>\n",
       "      <td>32.240440</td>\n",
       "    </tr>\n",
       "    <tr>\n",
       "      <th>4</th>\n",
       "      <td>9848201f11824ca5a7639aee61152122</td>\n",
       "      <td>2.960971</td>\n",
       "      <td>32.240536</td>\n",
       "      <td>2.961101</td>\n",
       "      <td>32.240386</td>\n",
       "      <td>2.961128</td>\n",
       "      <td>32.240551</td>\n",
       "      <td>2.961035</td>\n",
       "      <td>32.240573</td>\n",
       "      <td>2.960998</td>\n",
       "      <td>32.240462</td>\n",
       "    </tr>\n",
       "  </tbody>\n",
       "</table>\n",
       "</div>"
      ],
      "text/plain": [
       "                                 id  latitudes_0  longitudes_0  latitudes_1  \\\n",
       "0  7590cf21d1a446e3b07c92912a4a3c44     2.980511     32.531686     2.980595   \n",
       "1  c7b3fde63650440abbaaecec33e30bfa     2.965254     32.249756     2.965177   \n",
       "2  ef2b90b7ff804894a8413477cdfa0e86     2.961134     32.240426     2.961096   \n",
       "3  604a8069c5bb4620b7394a7ec5603c18     2.961075     32.240455     2.961193   \n",
       "4  9848201f11824ca5a7639aee61152122     2.960971     32.240536     2.961101   \n",
       "\n",
       "   longitudes_1  latitudes_2  longitudes_2  latitudes_3  longitudes_3  \\\n",
       "0     32.531705     2.980763     32.531327     2.980530     32.531240   \n",
       "1     32.250017     2.965122     32.250278     2.966003     32.250418   \n",
       "2     32.240401     2.961096     32.240401     2.961162     32.240312   \n",
       "3     32.240537     2.960932     32.240490     2.960932     32.240490   \n",
       "4     32.240386     2.961128     32.240551     2.961035     32.240573   \n",
       "\n",
       "   latitudes_4  longitudes_4  \n",
       "0     2.980515     32.531657  \n",
       "1     2.965983     32.249870  \n",
       "2     2.960957     32.240535  \n",
       "3     2.961053     32.240440  \n",
       "4     2.960998     32.240462  "
      ]
     },
     "execution_count": 82,
     "metadata": {},
     "output_type": "execute_result"
    }
   ],
   "source": [
    "dataset_rearranged"
   ]
  },
  {
   "cell_type": "code",
   "execution_count": 105,
   "metadata": {
    "collapsed": true,
    "jupyter": {
     "outputs_hidden": true
    }
   },
   "outputs": [
    {
     "data": {
      "text/html": [
       "<div style=\"width:100%;\"><div style=\"position:relative;width:100%;height:0;padding-bottom:60%;\"><span style=\"color:#565656\">Make this Notebook Trusted to load map: File -> Trust Notebook</span><iframe src=\"about:blank\" style=\"position:absolute;width:100%;height:100%;left:0;top:0;border:none !important;\" data-html=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 onload=\"this.contentDocument.open();this.contentDocument.write(atob(this.getAttribute('data-html')));this.contentDocument.close();\" allowfullscreen webkitallowfullscreen mozallowfullscreen></iframe></div></div>"
      ],
      "text/plain": [
       "<folium.folium.Map at 0x7f1234a43d60>"
      ]
     },
     "execution_count": 105,
     "metadata": {},
     "output_type": "execute_result"
    }
   ],
   "source": [
    "'''\n",
    "    Setting Up map view \n",
    "'''\n",
    "center =  [2.8780,32.7181]\n",
    "map_view = folium.Map(location=center, zoom_start=8)\n",
    "#display map\n",
    "map_view"
   ]
  },
  {
   "cell_type": "code",
   "execution_count": 124,
   "metadata": {},
   "outputs": [
    {
     "data": {
      "text/plain": [
       "['latitudes_0', 'latitudes_1', 'latitudes_2', 'latitudes_3', 'latitudes_4']"
      ]
     },
     "execution_count": 124,
     "metadata": {},
     "output_type": "execute_result"
    }
   ],
   "source": [
    "###filter columns for latitude\n",
    "filter_col_lt = [col for col in dataset_rearranged if col.startswith('latitudes_')]\n",
    "filter_col_lt"
   ]
  },
  {
   "cell_type": "code",
   "execution_count": 125,
   "metadata": {},
   "outputs": [
    {
     "data": {
      "text/html": [
       "<div>\n",
       "<style scoped>\n",
       "    .dataframe tbody tr th:only-of-type {\n",
       "        vertical-align: middle;\n",
       "    }\n",
       "\n",
       "    .dataframe tbody tr th {\n",
       "        vertical-align: top;\n",
       "    }\n",
       "\n",
       "    .dataframe thead th {\n",
       "        text-align: right;\n",
       "    }\n",
       "</style>\n",
       "<table border=\"1\" class=\"dataframe\">\n",
       "  <thead>\n",
       "    <tr style=\"text-align: right;\">\n",
       "      <th></th>\n",
       "      <th>latitudes_0</th>\n",
       "      <th>latitudes_1</th>\n",
       "      <th>latitudes_2</th>\n",
       "      <th>latitudes_3</th>\n",
       "      <th>latitudes_4</th>\n",
       "    </tr>\n",
       "  </thead>\n",
       "  <tbody>\n",
       "    <tr>\n",
       "      <th>0</th>\n",
       "      <td>2.980511</td>\n",
       "      <td>2.980595</td>\n",
       "      <td>2.980763</td>\n",
       "      <td>2.980530</td>\n",
       "      <td>2.980515</td>\n",
       "    </tr>\n",
       "    <tr>\n",
       "      <th>1</th>\n",
       "      <td>2.965254</td>\n",
       "      <td>2.965177</td>\n",
       "      <td>2.965122</td>\n",
       "      <td>2.966003</td>\n",
       "      <td>2.965983</td>\n",
       "    </tr>\n",
       "    <tr>\n",
       "      <th>2</th>\n",
       "      <td>2.961134</td>\n",
       "      <td>2.961096</td>\n",
       "      <td>2.961096</td>\n",
       "      <td>2.961162</td>\n",
       "      <td>2.960957</td>\n",
       "    </tr>\n",
       "    <tr>\n",
       "      <th>3</th>\n",
       "      <td>2.961075</td>\n",
       "      <td>2.961193</td>\n",
       "      <td>2.960932</td>\n",
       "      <td>2.960932</td>\n",
       "      <td>2.961053</td>\n",
       "    </tr>\n",
       "    <tr>\n",
       "      <th>4</th>\n",
       "      <td>2.960971</td>\n",
       "      <td>2.961101</td>\n",
       "      <td>2.961128</td>\n",
       "      <td>2.961035</td>\n",
       "      <td>2.960998</td>\n",
       "    </tr>\n",
       "  </tbody>\n",
       "</table>\n",
       "</div>"
      ],
      "text/plain": [
       "   latitudes_0  latitudes_1  latitudes_2  latitudes_3  latitudes_4\n",
       "0     2.980511     2.980595     2.980763     2.980530     2.980515\n",
       "1     2.965254     2.965177     2.965122     2.966003     2.965983\n",
       "2     2.961134     2.961096     2.961096     2.961162     2.960957\n",
       "3     2.961075     2.961193     2.960932     2.960932     2.961053\n",
       "4     2.960971     2.961101     2.961128     2.961035     2.960998"
      ]
     },
     "execution_count": 125,
     "metadata": {},
     "output_type": "execute_result"
    }
   ],
   "source": [
    "dataset_rearranged [filter_col_lt]"
   ]
  },
  {
   "cell_type": "code",
   "execution_count": 126,
   "metadata": {},
   "outputs": [
    {
     "data": {
      "text/plain": [
       "['longitudes_0',\n",
       " 'longitudes_1',\n",
       " 'longitudes_2',\n",
       " 'longitudes_3',\n",
       " 'longitudes_4']"
      ]
     },
     "execution_count": 126,
     "metadata": {},
     "output_type": "execute_result"
    }
   ],
   "source": [
    "###filter columns for latitude\n",
    "filter_col_ln = [col for col in dataset_rearranged if col.startswith('longitudes_')]\n",
    "filter_col_ln"
   ]
  },
  {
   "cell_type": "code",
   "execution_count": 127,
   "metadata": {},
   "outputs": [
    {
     "data": {
      "text/html": [
       "<div>\n",
       "<style scoped>\n",
       "    .dataframe tbody tr th:only-of-type {\n",
       "        vertical-align: middle;\n",
       "    }\n",
       "\n",
       "    .dataframe tbody tr th {\n",
       "        vertical-align: top;\n",
       "    }\n",
       "\n",
       "    .dataframe thead th {\n",
       "        text-align: right;\n",
       "    }\n",
       "</style>\n",
       "<table border=\"1\" class=\"dataframe\">\n",
       "  <thead>\n",
       "    <tr style=\"text-align: right;\">\n",
       "      <th></th>\n",
       "      <th>longitudes_0</th>\n",
       "      <th>longitudes_1</th>\n",
       "      <th>longitudes_2</th>\n",
       "      <th>longitudes_3</th>\n",
       "      <th>longitudes_4</th>\n",
       "    </tr>\n",
       "  </thead>\n",
       "  <tbody>\n",
       "    <tr>\n",
       "      <th>0</th>\n",
       "      <td>32.531686</td>\n",
       "      <td>32.531705</td>\n",
       "      <td>32.531327</td>\n",
       "      <td>32.531240</td>\n",
       "      <td>32.531657</td>\n",
       "    </tr>\n",
       "    <tr>\n",
       "      <th>1</th>\n",
       "      <td>32.249756</td>\n",
       "      <td>32.250017</td>\n",
       "      <td>32.250278</td>\n",
       "      <td>32.250418</td>\n",
       "      <td>32.249870</td>\n",
       "    </tr>\n",
       "    <tr>\n",
       "      <th>2</th>\n",
       "      <td>32.240426</td>\n",
       "      <td>32.240401</td>\n",
       "      <td>32.240401</td>\n",
       "      <td>32.240312</td>\n",
       "      <td>32.240535</td>\n",
       "    </tr>\n",
       "    <tr>\n",
       "      <th>3</th>\n",
       "      <td>32.240455</td>\n",
       "      <td>32.240537</td>\n",
       "      <td>32.240490</td>\n",
       "      <td>32.240490</td>\n",
       "      <td>32.240440</td>\n",
       "    </tr>\n",
       "    <tr>\n",
       "      <th>4</th>\n",
       "      <td>32.240536</td>\n",
       "      <td>32.240386</td>\n",
       "      <td>32.240551</td>\n",
       "      <td>32.240573</td>\n",
       "      <td>32.240462</td>\n",
       "    </tr>\n",
       "  </tbody>\n",
       "</table>\n",
       "</div>"
      ],
      "text/plain": [
       "   longitudes_0  longitudes_1  longitudes_2  longitudes_3  longitudes_4\n",
       "0     32.531686     32.531705     32.531327     32.531240     32.531657\n",
       "1     32.249756     32.250017     32.250278     32.250418     32.249870\n",
       "2     32.240426     32.240401     32.240401     32.240312     32.240535\n",
       "3     32.240455     32.240537     32.240490     32.240490     32.240440\n",
       "4     32.240536     32.240386     32.240551     32.240573     32.240462"
      ]
     },
     "execution_count": 127,
     "metadata": {},
     "output_type": "execute_result"
    }
   ],
   "source": [
    "dataset_rearranged [filter_col_ln]"
   ]
  },
  {
   "cell_type": "code",
   "execution_count": 132,
   "metadata": {},
   "outputs": [],
   "source": [
    "#calculate the mean of latitudes and longitudes\n",
    "lts = []\n",
    "lnts = []\n",
    "for ix, d in dataset_rearranged.iterrows():\n",
    "    for x in range(0,4):\n",
    "        lt = d['latitudes_{}'.format(x)]\n",
    "        ln= d['longitudes_{}'.format(x)]\n",
    "        lts.append(lt)\n",
    "        lnts.append(ln)"
   ]
  },
  {
   "cell_type": "code",
   "execution_count": 136,
   "metadata": {},
   "outputs": [],
   "source": [
    "sum = 0\n",
    "for ele in lts:\n",
    "    sum += ele\n",
    "res_lts = sum / len(lts)"
   ]
  },
  {
   "cell_type": "code",
   "execution_count": 137,
   "metadata": {},
   "outputs": [
    {
     "data": {
      "text/plain": [
       "2.965840561299998"
      ]
     },
     "execution_count": 137,
     "metadata": {},
     "output_type": "execute_result"
    }
   ],
   "source": [
    "res_lts"
   ]
  },
  {
   "cell_type": "code",
   "execution_count": 138,
   "metadata": {},
   "outputs": [],
   "source": [
    "sum = 0\n",
    "for ele in lnts:\n",
    "    sum += ele\n",
    "res_lnts = sum / len(lnts)"
   ]
  },
  {
   "cell_type": "code",
   "execution_count": 139,
   "metadata": {},
   "outputs": [
    {
     "data": {
      "text/plain": [
       "32.3005992245"
      ]
     },
     "execution_count": 139,
     "metadata": {},
     "output_type": "execute_result"
    }
   ],
   "source": [
    "res_lnts"
   ]
  },
  {
   "cell_type": "code",
   "execution_count": 143,
   "metadata": {},
   "outputs": [
    {
     "data": {
      "text/html": [
       "<div style=\"width:100%;\"><div style=\"position:relative;width:100%;height:0;padding-bottom:60%;\"><span style=\"color:#565656\">Make this Notebook Trusted to load map: File -> Trust Notebook</span><iframe src=\"about:blank\" style=\"position:absolute;width:100%;height:100%;left:0;top:0;border:none !important;\" data-html=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 onload=\"this.contentDocument.open();this.contentDocument.write(atob(this.getAttribute('data-html')));this.contentDocument.close();\" allowfullscreen webkitallowfullscreen mozallowfullscreen></iframe></div></div>"
      ],
      "text/plain": [
       "<folium.folium.Map at 0x7f1280242e50>"
      ]
     },
     "execution_count": 143,
     "metadata": {},
     "output_type": "execute_result"
    }
   ],
   "source": [
    "'''\n",
    "        Plotting on a map using folium map \n",
    "'''\n",
    "center = [res_lts,res_lnts]\n",
    "\n",
    "map_uganda = folium.Map(location=center, tiles='Stamen Terrain', zoom_start=8)\n",
    "for index, garden in dataset_rearranged.iterrows():\n",
    "    for i in range(0,4):\n",
    "        location = [garden['latitudes_{}'.format(i)],garden['longitudes_{}'.format(i)]]\n",
    "        folium.Marker(location, popup = f'Garden:{garden[\"id\"]}').add_to(map_uganda)\n",
    "\n",
    "# save map to html file\n",
    "map_uganda"
   ]
  },
  {
   "cell_type": "code",
   "execution_count": null,
   "metadata": {},
   "outputs": [],
   "source": []
  }
 ],
 "metadata": {
  "kernelspec": {
   "display_name": "Python 3",
   "language": "python",
   "name": "python3"
  },
  "language_info": {
   "codemirror_mode": {
    "name": "ipython",
    "version": 3
   },
   "file_extension": ".py",
   "mimetype": "text/x-python",
   "name": "python",
   "nbconvert_exporter": "python",
   "pygments_lexer": "ipython3",
   "version": "3.8.5"
  }
 },
 "nbformat": 4,
 "nbformat_minor": 4
}
